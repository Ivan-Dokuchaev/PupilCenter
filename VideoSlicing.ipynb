{
 "cells": [
  {
   "cell_type": "code",
   "execution_count": 1,
   "metadata": {},
   "outputs": [],
   "source": [
    "import cv2\n",
    "import pandas as pd\n",
    "import numpy as np\n",
    "import os"
   ]
  },
  {
   "cell_type": "code",
   "execution_count": 2,
   "metadata": {},
   "outputs": [],
   "source": [
    "avi_list = np.array([os.path.join(d, x) for d, dirs, files in os.walk('.') for x in files if x.endswith('.avi')])\n",
    "y_list = np.array([os.path.join(d, x) for d, dirs, files in os.walk('.') for x in files if x.endswith('.txt')])[1:]"
   ]
  },
  {
   "cell_type": "code",
   "execution_count": 3,
   "metadata": {},
   "outputs": [],
   "source": [
    "def save_frames(f,t,freq=95):\n",
    "    target = pd.DataFrame()\n",
    "    cap = cv2.VideoCapture(f)\n",
    "    i_fr = 0\n",
    "    while(cap.isOpened()):\n",
    "        ret, frame = cap.read()\n",
    "        if ret == True:\n",
    "            gray = cv2.cvtColor(frame, cv2.COLOR_BGR2RGB)\n",
    "            if (i_fr % freq == 0):\n",
    "                name = f.split('\\\\')[2] + '_'  + f.split('\\\\')[3].split('.')[0] + '_' + str(i_fr)\n",
    "                row = pd.read_csv(t, sep=\" \", header=None).iloc[i_fr]\n",
    "                row.name = name\n",
    "                target = target.append(row)\n",
    "                cv2.imwrite('./dataset' + str(freq) + '/' + name + '.jpg', frame)\n",
    "            i_fr+=1\n",
    "        else:\n",
    "            break\n",
    "    cap.release()\n",
    "    return target"
   ]
  },
  {
   "cell_type": "code",
   "execution_count": 4,
   "metadata": {},
   "outputs": [],
   "source": [
    "targ = pd.DataFrame()\n",
    "frames = 50\n",
    "for av, t in zip(avi_list, y_list):\n",
    "    targ = targ.append(save_frames(av,t,frames))\n",
    "targ.to_csv('target' + str(frames) + '.csv', header = None)\n",
    "    "
   ]
  }
 ],
 "metadata": {
  "kernelspec": {
   "display_name": "Python 3",
   "language": "python",
   "name": "python3"
  },
  "language_info": {
   "codemirror_mode": {
    "name": "ipython",
    "version": 3
   },
   "file_extension": ".py",
   "mimetype": "text/x-python",
   "name": "python",
   "nbconvert_exporter": "python",
   "pygments_lexer": "ipython3",
   "version": "3.7.3"
  }
 },
 "nbformat": 4,
 "nbformat_minor": 2
}
