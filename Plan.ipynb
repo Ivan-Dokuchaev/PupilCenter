{
 "cells": [
  {
   "cell_type": "code",
   "execution_count": 2,
   "metadata": {},
   "outputs": [],
   "source": [
    "#Создание пандас датафрейма со всеми данными из txt файлов"
   ]
  },
  {
   "cell_type": "code",
   "execution_count": 3,
   "metadata": {},
   "outputs": [],
   "source": [
    "#Решение по поводу сколько кадров брать из видео"
   ]
  },
  {
   "cell_type": "code",
   "execution_count": 4,
   "metadata": {},
   "outputs": [],
   "source": [
    "#Нарезка видео на кадры и сжатие\n",
    "#Нужно выбрать частоту ощутимых изменений\n",
    "#Максимальное сжатие для модели "
   ]
  },
  {
   "cell_type": "code",
   "execution_count": 12,
   "metadata": {},
   "outputs": [],
   "source": [
    "#Постановка задачи машинного обучения и выбор метрик качества\n",
    "#Решение задачи либо как задачу регрессии и координатами x и y, \n",
    "#либо как бинарную классификацию на предмет наличия зрачка"
   ]
  },
  {
   "cell_type": "code",
   "execution_count": 6,
   "metadata": {},
   "outputs": [],
   "source": [
    "#Выбор модели\n",
    "#Тест EfficientNet моделей"
   ]
  },
  {
   "cell_type": "code",
   "execution_count": 7,
   "metadata": {},
   "outputs": [],
   "source": [
    "#Метод разделения на тестовую и обучающую выборку\n",
    "#1) если в датасете присутствует глаз с макияжем то он должен быть и в тестовой и в обучающей выборке\n",
    "#2) в тестовой и обучающей выборке по возможности должны быть разные люди \n"
   ]
  },
  {
   "cell_type": "code",
   "execution_count": 8,
   "metadata": {},
   "outputs": [],
   "source": [
    "#Обучение модели\n",
    "#Нужно ли брать претрейндр модель из задачи APTOS\n",
    "#Нужно ли использовать rectified Adam \n",
    "#Точка остановки обучения"
   ]
  },
  {
   "cell_type": "code",
   "execution_count": 13,
   "metadata": {},
   "outputs": [],
   "source": [
    "#Тестирование модели\n",
    "#Подсчет метрики в кроссвалидации"
   ]
  },
  {
   "cell_type": "code",
   "execution_count": 15,
   "metadata": {},
   "outputs": [],
   "source": [
    "#Создание приложения для компьютера и телефона для определения зрачка  режиме реального времемени"
   ]
  },
  {
   "cell_type": "code",
   "execution_count": null,
   "metadata": {},
   "outputs": [],
   "source": []
  }
 ],
 "metadata": {
  "kernelspec": {
   "display_name": "Python 3",
   "language": "python",
   "name": "python3"
  },
  "language_info": {
   "codemirror_mode": {
    "name": "ipython",
    "version": 3
   },
   "file_extension": ".py",
   "mimetype": "text/x-python",
   "name": "python",
   "nbconvert_exporter": "python",
   "pygments_lexer": "ipython3",
   "version": "3.7.3"
  }
 },
 "nbformat": 4,
 "nbformat_minor": 2
}
