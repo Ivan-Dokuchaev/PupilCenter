{
 "cells": [
  {
   "cell_type": "code",
   "execution_count": 1,
   "metadata": {},
   "outputs": [],
   "source": [
    "import argparse\n",
    "import random\n",
    "import os\n",
    "import shutil\n",
    "import pandas as pd\n",
    "import numpy as np\n",
    "\n",
    "from PIL import Image\n",
    "from tqdm import tqdm\n",
    "from sklearn.model_selection import train_test_split"
   ]
  },
  {
   "cell_type": "code",
   "execution_count": 2,
   "metadata": {},
   "outputs": [],
   "source": [
    "SIZE = 224\n",
    "DT_PATH = './dataset50/'"
   ]
  },
  {
   "cell_type": "code",
   "execution_count": 3,
   "metadata": {},
   "outputs": [],
   "source": [
    "def resize_and_save(filename, output_dir, size=SIZE):\n",
    "    \"\"\"Resize the image contained in `filename` and save it to the `output_dir`\"\"\"\n",
    "    image = Image.open(filename)\n",
    "    # Use bilinear interpolation instead of the default \"nearest neighbor\" method\n",
    "    image = image.resize((size, size), Image.BILINEAR)\n",
    "    image.save(os.path.join(output_dir, filename.split('/')[-1]))"
   ]
  },
  {
   "cell_type": "code",
   "execution_count": 4,
   "metadata": {},
   "outputs": [],
   "source": [
    "def save_images(df,sv_dir, dt_path = DT_PATH):  \n",
    "    if not os.path.exists(sv_dir):\n",
    "        os.mkdir(sv_dir)\n",
    "    else:\n",
    "        print(\"Warning: output dir {} already exists\".format(sv_dir))\n",
    "        shutil.rmtree(sv_dir)\n",
    "        os.mkdir(sv_dir)\n",
    "\n",
    "    for r in df[1]:\n",
    "        path = os.path.join(dt_path, r) + '.jpg'     \n",
    "        resize_and_save(path, sv_dir)"
   ]
  },
  {
   "cell_type": "code",
   "execution_count": 5,
   "metadata": {},
   "outputs": [],
   "source": [
    "train_csv = pd.read_csv('./target50bypeople.csv', header = None)\n",
    "clusters = train_csv[4].values\n",
    "#aim = np.array([x.split('_')[0] for x in train_csv[1].values]).astype(float)"
   ]
  },
  {
   "cell_type": "code",
   "execution_count": 6,
   "metadata": {
    "scrolled": true
   },
   "outputs": [],
   "source": [
    "train_df, test_df = train_test_split(train_csv, clusters,stratify = clusters, test_size = 0.15, random_state=2019)[0:2]\n",
    "clusters = train_df[4].values\n",
    "train_df, val_df = train_test_split(train_df, clusters,stratify = clusters, test_size = 0.18, random_state=2019)[0:2]"
   ]
  },
  {
   "cell_type": "code",
   "execution_count": 7,
   "metadata": {},
   "outputs": [
    {
     "name": "stdout",
     "output_type": "stream",
     "text": [
      "Warning: output dir train already exists\n",
      "Warning: output dir test already exists\n",
      "Warning: output dir val already exists\n"
     ]
    }
   ],
   "source": [
    "for data, name in zip([train_df,test_df,val_df],['train','test','val']):\n",
    "    save_images(data,name)\n",
    "    "
   ]
  },
  {
   "cell_type": "code",
   "execution_count": null,
   "metadata": {},
   "outputs": [],
   "source": []
  }
 ],
 "metadata": {
  "kernelspec": {
   "display_name": "Python 3",
   "language": "python",
   "name": "python3"
  },
  "language_info": {
   "codemirror_mode": {
    "name": "ipython",
    "version": 3
   },
   "file_extension": ".py",
   "mimetype": "text/x-python",
   "name": "python",
   "nbconvert_exporter": "python",
   "pygments_lexer": "ipython3",
   "version": "3.7.3"
  }
 },
 "nbformat": 4,
 "nbformat_minor": 2
}
